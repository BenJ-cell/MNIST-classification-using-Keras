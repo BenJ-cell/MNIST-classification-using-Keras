{
 "cells": [
  {
   "cell_type": "markdown",
   "metadata": {
    "colab_type": "text",
    "id": "iafPdtuncbq7"
   },
   "source": [
    "<h1><center>MNIST classification using Keras<center></h1>"
   ]
  },
  {
   "cell_type": "markdown",
   "metadata": {
    "colab_type": "text",
    "id": "I4VrCB5La5rD"
   },
   "source": [
    "# Importing Keras"
   ]
  },
  {
   "cell_type": "code",
   "execution_count": 7,
   "metadata": {
    "colab": {},
    "colab_type": "code",
    "id": "OlKZ3Hnas7B4"
   },
   "outputs": [
    {
     "name": "stdout",
     "output_type": "stream",
     "text": [
      "Using tensorflow version 2.4.1\n",
      "Using keras version 2.4.3\n"
     ]
    }
   ],
   "source": [
    "# Importing the Keras main module forcing tensorflow 1.x backend\n",
    "import tensorflow as tf\n",
    "import keras\n",
    "import numpy as np\n",
    "print(\"Using tensorflow version \" + str(tf.__version__))\n",
    "print(\"Using keras version \" + str(keras.__version__))"
   ]
  },
  {
   "cell_type": "markdown",
   "metadata": {
    "colab_type": "text",
    "id": "s_QLz9_jbRZq"
   },
   "source": [
    "## Loading and preparing the MNIST dataset\n",
    "\n",
    "Again, load the dataset via ```keras.datasets```, turn train and test labels into one-hot encoding, and reshape and normalize data as in the first exercise. "
   ]
  },
  {
   "cell_type": "code",
   "execution_count": 1,
   "metadata": {
    "cellView": "both",
    "colab": {},
    "colab_type": "code",
    "id": "gG83hGyVmijn"
   },
   "outputs": [
    {
     "name": "stdout",
     "output_type": "stream",
     "text": [
      "train_images (60000, 28, 28)\n",
      "train_labels (60000,)\n",
      "test_images (10000, 28, 28)\n",
      "test_labels (10000,)\n"
     ]
    }
   ],
   "source": [
    "#loading mnist data\n",
    "from keras.datasets import mnist\n",
    "\n",
    "# START CODE HERE\n",
    "(train_images,train_labels),(test_images,test_labels)=mnist.load_data()\n",
    "print('train_images '+str(train_images.shape))\n",
    "print('train_labels '+str(train_labels.shape))\n",
    "print('test_images '+str(test_images.shape))\n",
    "print('test_labels '+str(test_labels.shape))\n",
    "# END CODE HERE"
   ]
  },
  {
   "cell_type": "code",
   "execution_count": 5,
   "metadata": {
    "colab": {},
    "colab_type": "code",
    "id": "lQbkllF8mnaf"
   },
   "outputs": [],
   "source": [
    "#one hot-encoding\n",
    "from keras.utils.np_utils import to_categorical\n",
    "# START CODE HERE\n",
    "encoded_train_labels=to_categorical(train_labels,num_classes=10)\n",
    "encoded_test_labels=to_categorical(test_labels,num_classes=10)\n",
    "# END CODE HERE"
   ]
  },
  {
   "cell_type": "code",
   "execution_count": 8,
   "metadata": {},
   "outputs": [],
   "source": [
    "# Reshape to proper images with 1 color channel according to backend scheme\n",
    "\n",
    "# START CODE HERE\n",
    "N=train_images.shape[0]\n",
    "img_rows, img_cols = train_images.shape[1], train_images.shape[2]\n",
    "#img_vector=np.zeros(N)\n",
    "train_img_vector = np.reshape(train_images,newshape=[N, img_rows*img_cols])\n",
    "# END CODE HERE\n",
    "\n",
    "# Cast pixels from uint8 to float32\n",
    "train_img_vector = train_img_vector.astype('float32')\n",
    "\n",
    "# Now let us normalize the images so that they have zero mean and standard deviation\n",
    "# Hint: are real testing data statistics known at training time ?\n",
    "# START CODE HERE\n",
    "m=len(train_img_vector[0])\n",
    "for i in range (N):\n",
    "    image=train_img_vector[i]\n",
    "    mean=np.mean(image)\n",
    "    std=np.std(image)\n",
    "    for k in range (m):\n",
    "        image[k]=(image[k]-mean)/std #centering and normalizing each pixel of the image\n",
    "# END CODE HERE"
   ]
  },
  {
   "cell_type": "markdown",
   "metadata": {
    "colab_type": "text",
    "id": "lnKYaP-KVoOs"
   },
   "source": [
    "## Defining the neural network architecture (i.e., the network model)\n",
    "\n",
    "You can take a look at this [cheatsheet](https://s3.amazonaws.com/assets.datacamp.com/blog_assets/Keras_Cheat_Sheet_Python.pdf) for some basic commands to use keras.\n",
    "\n",
    "First, try to replicate the classifier of the first exercise. Secondly, create a fully connected network.\n",
    "For the fully connected layer, you can for example use this architecture: \n",
    "$$ (784) \\rightarrow (300) \\rightarrow (10) $$\n",
    "For this first implementation of the network, use only sigmoid activations in the hidden layer. Remember to use the right output activation function ! "
   ]
  },
  {
   "cell_type": "code",
   "execution_count": 29,
   "metadata": {
    "colab": {},
    "colab_type": "code",
    "id": "Pnd3q1V3nk8v"
   },
   "outputs": [],
   "source": [
    "# The Sequential module is a container for more complex NN elements and\n",
    "# defines a loop-less NN architecture\n",
    "from keras.models import Sequential\n",
    "from keras.layers import Dense, Activation, Flatten\n",
    "\n",
    "# START CODE HERE\n",
    "input_shape = len(train_img_vector[0])\n",
    "output_shape = len(encoded_train_labels[0])\n",
    "\n",
    "model = Sequential() #creating the NN\n",
    "model.add(Dense(300,activation='sigmoid'))\n",
    "model.add(Dense(output_shape,activation='sigmoid'))\n",
    "# END CODE HERE"
   ]
  },
  {
   "cell_type": "markdown",
   "metadata": {
    "colab_type": "text",
    "id": "7g2PNEiwWBLw"
   },
   "source": [
    "Instantiate a SGD optimizer with a tentative learning rate of $\\\\eta = 10^{-2}$ and, using the appropriate loss function (which is called, in keras, ```'categorical_crossentropy'```) and compile the model."
   ]
  },
  {
   "cell_type": "code",
   "execution_count": 35,
   "metadata": {
    "colab": {
     "base_uri": "https://localhost:8080/",
     "height": 34
    },
    "colab_type": "code",
    "id": "SijGZGKjV9J2",
    "outputId": "ae6c8734-e7ec-46e7-f019-6711f5980c67"
   },
   "outputs": [
    {
     "name": "stdout",
     "output_type": "stream",
     "text": [
      "Model: \"sequential_5\"\n",
      "_________________________________________________________________\n",
      "Layer (type)                 Output Shape              Param #   \n",
      "=================================================================\n",
      "dense_5 (Dense)              (32, 300)                 235500    \n",
      "_________________________________________________________________\n",
      "dense_6 (Dense)              (32, 10)                  3010      \n",
      "=================================================================\n",
      "Total params: 238,510\n",
      "Trainable params: 238,510\n",
      "Non-trainable params: 0\n",
      "_________________________________________________________________\n"
     ]
    }
   ],
   "source": [
    "# The optimizers module provides a number of optimization algorithms for updating\n",
    "# a netwok parameters according to the computed error gradients\n",
    "from keras import optimizers\n",
    "\n",
    "# START CODE HERE\n",
    "model.compile(optimizer='SGD',loss='categorical_crossentropy',metrics=['accuracy'])\n",
    "# END CODE HERE\n",
    "# We can now have a look at the defined model topology\n",
    "model.summary()"
   ]
  },
  {
   "cell_type": "markdown",
   "metadata": {
    "colab_type": "text",
    "id": "u-WqMtSAWTRp"
   },
   "source": [
    "## Training the network\n",
    "\n",
    "Train the model for 10 epochs using the ```.fit()``` method, validating the model at each epoch and keeping track of the training history for later plotting. Make sure you enable ```.fit()``` verbose mode in order to visualize the training.\n",
    "\n",
    "In order to accelerate training, use the ```batch_size``` option of ```.fit()```, which will process a batch of examples at the same time, and make one update for all of them, averaged over the gradients for each training example of the batch. You can begin with a small size, and experiment with a larger size later."
   ]
  },
  {
   "cell_type": "code",
   "execution_count": 39,
   "metadata": {
    "colab": {},
    "colab_type": "code",
    "id": "gTHrbb7uFYWz"
   },
   "outputs": [
    {
     "name": "stdout",
     "output_type": "stream",
     "text": [
      "Epoch 1/10\n",
      "3000/3000 - 11s - loss: 0.1247 - accuracy: 0.9655\n",
      "Epoch 2/10\n",
      "3000/3000 - 11s - loss: 0.1188 - accuracy: 0.9674\n",
      "Epoch 3/10\n",
      "3000/3000 - 11s - loss: 0.1133 - accuracy: 0.9690\n",
      "Epoch 4/10\n",
      "3000/3000 - 11s - loss: 0.1083 - accuracy: 0.9702\n",
      "Epoch 5/10\n",
      "3000/3000 - 11s - loss: 0.1037 - accuracy: 0.9716\n",
      "Epoch 6/10\n",
      "3000/3000 - 11s - loss: 0.0994 - accuracy: 0.9733\n",
      "Epoch 7/10\n",
      "3000/3000 - 11s - loss: 0.0956 - accuracy: 0.9739\n",
      "Epoch 8/10\n",
      "3000/3000 - 11s - loss: 0.0919 - accuracy: 0.9755\n",
      "Epoch 9/10\n",
      "3000/3000 - 11s - loss: 0.0884 - accuracy: 0.9760\n",
      "Epoch 10/10\n",
      "3000/3000 - 11s - loss: 0.0852 - accuracy: 0.9769\n"
     ]
    }
   ],
   "source": [
    "# This is where the actual training-testing happens\n",
    "# Number of epochs we want to train\n",
    "epochs = 10\n",
    "\n",
    "# START CODE HERE\n",
    "network=model.fit(train_img_vector,encoded_train_labels,epochs=epochs,batch_size=20,verbose=2)\n",
    "# END CODE HERE"
   ]
  },
  {
   "cell_type": "markdown",
   "metadata": {
    "colab_type": "text",
    "id": "ODUc5Bq_dMEq"
   },
   "source": [
    "## Visualizing the network performance\n",
    "\n",
    "Visualize the training history using the ```pyplot``` package:\n",
    "- In one graph, plot the train and vaidation loss functions,\n",
    "- In another graph, the train and validation accuracy.\n",
    "By comparing the training the testing curves, what can we conclude about the quality of the training ?"
   ]
  },
  {
   "cell_type": "code",
   "execution_count": 44,
   "metadata": {
    "colab": {},
    "colab_type": "code",
    "id": "QdJrRbyariEw"
   },
   "outputs": [
    {
     "name": "stdout",
     "output_type": "stream",
     "text": [
      "dict_keys(['loss', 'accuracy'])\n"
     ]
    },
    {
     "data": {
      "image/png": "[encoded data removed]",
      "text/plain": [
       "<Figure size 432x288 with 1 Axes>"
      ]
     },
     "metadata": {
      "needs_background": "light"
     },
     "output_type": "display_data"
    },
    {
     "data": {
      "image/png": "[encoded data removed]",
      "text/plain": [
       "<Figure size 432x288 with 1 Axes>"
      ]
     },
     "metadata": {
      "needs_background": "light"
     },
     "output_type": "display_data"
    }
   ],
   "source": [
    "# We now want to plot the train and validation loss functions and accuracy curves\n",
    "print(network.history.keys())\n",
    "from matplotlib import pyplot as plt\n",
    "\n",
    "# summarize history for loss\n",
    "# START CODE HERE\n",
    "plt.plot(network.history['loss'])\n",
    "plt.title('model loss')\n",
    "plt.ylabel('loss')\n",
    "plt.xlabel('epoch')\n",
    "plt.legend(['train', 'val'], loc='upper left') #where comes the validation from?\n",
    "# END CODE HERE\n",
    "plt.show()\n",
    "\n",
    "# summarize history for accuracy\n",
    "plt.figure()\n",
    "# START CODE HERE\n",
    "plt.plot(network.history['accuracy'])\n",
    "plt.title('model accuracy')\n",
    "plt.ylabel('accuracy')\n",
    "plt.xlabel('epoch')\n",
    "plt.legend(['train', 'val'], loc='upper left') #where comes the validation from?\n",
    "# END CODE HERE\n",
    "plt.show()\n"
   ]
  },
  {
   "cell_type": "markdown",
   "metadata": {
    "colab_type": "text",
    "id": "Nr4TdWoEoDzi"
   },
   "source": [
    "## Experiments\n",
    "\n",
    "Note down the performance of the larger network in terms of training and validation accuracy as a reference (save the loss/accuracy graphs of the network).\n",
    "\n",
    "Then, experiment as follow and compare performance with the reference scenario:\n",
    "\n",
    "*  Experiment increasing the size of the batch and compare the performance with reference.\n",
    "*  Experiment replacing the sigmoid activations with Relus and note what happens.\n",
    "*  Experiment with a larger architecture, for example: \n",
    "$$ (784) \\rightarrow (300) \\rightarrow (128) \\rightarrow (84) \\rightarrow (10) $$"
   ]
  },
  {
   "cell_type": "code",
   "execution_count": 48,
   "metadata": {},
   "outputs": [],
   "source": [
    "#defining a new NN with a larger architecture\n",
    "\n",
    "# START CODE HERE\n",
    "input_shape = len(train_img_vector[0])\n",
    "output_shape = len(encoded_train_labels[0])\n",
    "\n",
    "model2 = Sequential() #creating the NN\n",
    "model2.add(Dense(300,activation='relu'))\n",
    "model2.add(Dense(128,activation='relu'))\n",
    "model2.add(Dense(84,activation='relu'))\n",
    "model2.add(Dense(output_shape,activation='sigmoid'))\n",
    "# END CODE HERE\n",
    "\n",
    "#compiling the model \n",
    "\n",
    "# START CODE HERE\n",
    "model2.compile(optimizer='SGD',loss='categorical_crossentropy',metrics=['accuracy'])\n",
    "# END CODE HERE\n",
    "model.summary()"
   ]
  },
  {
   "cell_type": "code",
   "execution_count": 49,
   "metadata": {},
   "outputs": [
    {
     "name": "stdout",
     "output_type": "stream",
     "text": [
      "Epoch 1/10\n",
      "1875/1875 - 10s - loss: 0.3425 - accuracy: 0.8997\n",
      "Epoch 2/10\n",
      "1875/1875 - 10s - loss: 0.1505 - accuracy: 0.9548\n",
      "Epoch 3/10\n",
      "1875/1875 - 10s - loss: 0.1085 - accuracy: 0.9676\n",
      "Epoch 4/10\n",
      "1875/1875 - 10s - loss: 0.0846 - accuracy: 0.9743\n",
      "Epoch 5/10\n",
      "1875/1875 - 10s - loss: 0.0680 - accuracy: 0.9795\n",
      "Epoch 6/10\n",
      "1875/1875 - 10s - loss: 0.0552 - accuracy: 0.9838\n",
      "Epoch 7/10\n",
      "1875/1875 - 10s - loss: 0.0461 - accuracy: 0.9865\n",
      "Epoch 8/10\n",
      "1875/1875 - 10s - loss: 0.0378 - accuracy: 0.9895\n",
      "Epoch 9/10\n",
      "1875/1875 - 10s - loss: 0.0315 - accuracy: 0.9916\n",
      "Epoch 10/10\n",
      "1875/1875 - 10s - loss: 0.0258 - accuracy: 0.9931\n"
     ]
    }
   ],
   "source": [
    "history=model2.fit(train_img_vector,encoded_train_labels,epochs=epochs,batch_size=32,verbose=2)"
   ]
  },
  {
   "cell_type": "code",
   "execution_count": 51,
   "metadata": {},
   "outputs": [
    {
     "name": "stdout",
     "output_type": "stream",
     "text": [
      "dict_keys(['loss', 'accuracy'])\n"
     ]
    },
    {
     "data": {
      "image/png": "[encoded data removed]",
      "text/plain": [
       "<Figure size 432x288 with 1 Axes>"
      ]
     },
     "metadata": {
      "needs_background": "light"
     },
     "output_type": "display_data"
    },
    {
     "data": {
      "image/png": "[encoded data removed]",
      "text/plain": [
       "<Figure size 432x288 with 1 Axes>"
      ]
     },
     "metadata": {
      "needs_background": "light"
     },
     "output_type": "display_data"
    }
   ],
   "source": [
    "# We now want to plot the train and validation loss functions and accuracy curves\n",
    "print(history.history.keys())\n",
    "\n",
    "# summarize history for loss\n",
    "# START CODE HERE\n",
    "plt.plot(history.history['loss'])\n",
    "plt.title('model loss')\n",
    "plt.ylabel('loss')\n",
    "plt.xlabel('epoch')\n",
    "plt.legend(['train', 'val'], loc='upper left') #where comes the validation from?\n",
    "# END CODE HERE\n",
    "plt.show()\n",
    "\n",
    "# summarize history for accuracy\n",
    "plt.figure()\n",
    "# START CODE HERE\n",
    "plt.plot(history.history['accuracy'])\n",
    "plt.title('model accuracy')\n",
    "plt.ylabel('accuracy')\n",
    "plt.xlabel('epoch')\n",
    "plt.legend(['train', 'val'], loc='upper left') #where comes the validation from?\n",
    "# END CODE HERE\n",
    "plt.show()"
   ]
  }
 ],
 "metadata": {
  "accelerator": "GPU",
  "colab": {
   "collapsed_sections": [],
   "name": "TP4_1_empty.ipynb",
   "provenance": []
  },
  "kernelspec": {
   "display_name": "Python 3",
   "language": "python",
   "name": "python3"
  },
  "language_info": {
   "codemirror_mode": {
    "name": "ipython",
    "version": 3
   },
   "file_extension": ".py",
   "mimetype": "text/x-python",
   "name": "python",
   "nbconvert_exporter": "python",
   "pygments_lexer": "ipython3",
   "version": "3.8.3"
  }
 },
 "nbformat": 4,
 "nbformat_minor": 4
}
